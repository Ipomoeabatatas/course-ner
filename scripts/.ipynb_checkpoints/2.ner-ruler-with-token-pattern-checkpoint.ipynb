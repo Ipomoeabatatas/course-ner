{
 "cells": [
  {
   "cell_type": "markdown",
   "id": "7f84ace0",
   "metadata": {},
   "source": [
    "#\n",
    "#\n",
    "Spacy Version 3.0.6 "
   ]
  },
  {
   "cell_type": "markdown",
   "id": "7ba25dac",
   "metadata": {},
   "source": [
    "**NER Notebook**\n",
    "\n",
    "Created by: Tan Poh Keam, Republic Polytechnic\n",
    "\n",
    "Acknowledgement: n/a\n",
    "\n",
    "This note demonstrates how token patterns can be used in the Entity Ruler.\n",
    "The tested environment is based on Pyton 3.8 and Spacy 3.\n"
   ]
  },
  {
   "cell_type": "code",
   "execution_count": 1,
   "id": "7210a9a3",
   "metadata": {
    "scrolled": false
   },
   "outputs": [
    {
     "name": "stdout",
     "output_type": "stream",
     "text": [
      "3.0.6\n"
     ]
    }
   ],
   "source": [
    "import spacy\n",
    "print(spacy.__version__)\n",
    "from spacy import displacy"
   ]
  },
  {
   "cell_type": "markdown",
   "id": "d59e7a7d",
   "metadata": {},
   "source": [
    "**Preparing**\n",
    "\n",
    "Let us load in the standard English module.\n",
    "The pipeline components will include the statisical NER model"
   ]
  },
  {
   "cell_type": "code",
   "execution_count": 2,
   "id": "8d9755cd",
   "metadata": {
    "scrolled": false
   },
   "outputs": [
    {
     "name": "stdout",
     "output_type": "stream",
     "text": [
      "Standard Pipeline Components: \n",
      " ['tok2vec', 'tagger', 'parser', 'ner', 'attribute_ruler', 'lemmatizer']\n"
     ]
    }
   ],
   "source": [
    "nlp = spacy.load(\"en_core_web_sm\")\n",
    "print(\"Standard Pipeline Components: \\n\", nlp.pipe_names)"
   ]
  },
  {
   "cell_type": "code",
   "execution_count": 4,
   "id": "067cedd4",
   "metadata": {
    "scrolled": false
   },
   "outputs": [
    {
     "name": "stdout",
     "output_type": "stream",
     "text": [
      "ORG Microsoft\n",
      "ORG Amazon\n",
      "ORG Google\n"
     ]
    }
   ],
   "source": [
    "my_text = \"Cloud computing is the delivery of computing services—including servers, \\\n",
    "storage, databases, networking, software, analytics, and intelligence—over the Internet  \\\n",
    "to offer faster innovation, flexible resources, and economies of scale. You typically pay only for \\\n",
    "cloud services you use, helping you lower your operating costs, run your infrastructure more efficiently, \\\n",
    "and scale as your business needs change. The current market leaders are Microsoft, Amazon and Google. \\\n",
    "The Google Docs is an example of an application services that is offered on the cloud.\"\n",
    "\n",
    "doc=nlp(my_text)\n",
    "for ent in doc.ents:\n",
    "    print(ent.label_ , ent.text) \n",
    "\n",
    "    # There should only be ORG entities identified"
   ]
  },
  {
   "cell_type": "markdown",
   "id": "3d5507ca",
   "metadata": {},
   "source": [
    "We want the model to be able to identify any token (tokens) that have the words cloud, cloud services, or cloud computing. Let's try to define some token patterns.\n"
   ]
  },
  {
   "cell_type": "code",
   "execution_count": 5,
   "id": "4d695f8b",
   "metadata": {
    "scrolled": true
   },
   "outputs": [],
   "source": [
    "patterns = [\n",
    "{\"label\": \"IT PROD\", \"pattern\": [ {\"LOWER\": \"cloud\" }  ]},\n",
    "{\"label\": \"IT PROD\", \"pattern\": [ {\"LOWER\": \"cloud\" } , {\"LOWER\": \"services\" } ]}]"
   ]
  },
  {
   "cell_type": "markdown",
   "id": "f8cb4731",
   "metadata": {},
   "source": [
    "Add Ruler to the pipeline and add the pattern"
   ]
  },
  {
   "cell_type": "code",
   "execution_count": 6,
   "id": "02ec5128",
   "metadata": {},
   "outputs": [],
   "source": [
    "ruler = nlp.add_pipe(\"entity_ruler\" , config={\"overwrite_ents\": True})"
   ]
  },
  {
   "cell_type": "code",
   "execution_count": 7,
   "id": "0a7f7abc",
   "metadata": {},
   "outputs": [],
   "source": [
    "ruler.add_patterns(patterns)"
   ]
  },
  {
   "cell_type": "code",
   "execution_count": 8,
   "id": "610ef89a",
   "metadata": {},
   "outputs": [
    {
     "name": "stdout",
     "output_type": "stream",
     "text": [
      "IT PROD Cloud\n",
      "IT PROD cloud services\n",
      "ORG Microsoft\n",
      "ORG Amazon\n",
      "ORG Google\n",
      "IT PROD cloud\n"
     ]
    }
   ],
   "source": [
    "doc=nlp(my_text)\n",
    "for ent in doc.ents:\n",
    "    print(ent.label_ , ent.text)"
   ]
  },
  {
   "cell_type": "markdown",
   "id": "eedd8855",
   "metadata": {},
   "source": [
    "We can visualise the NER using the dispacy utility."
   ]
  },
  {
   "cell_type": "code",
   "execution_count": 9,
   "id": "9ab00422",
   "metadata": {},
   "outputs": [
    {
     "data": {
      "text/html": [
       "<span class=\"tex2jax_ignore\"><div class=\"entities\" style=\"line-height: 2.5; direction: ltr\">\n",
       "<mark class=\"entity\" style=\"background: #ddd; padding: 0.45em 0.6em; margin: 0 0.25em; line-height: 1; border-radius: 0.35em;\">\n",
       "    Cloud\n",
       "    <span style=\"font-size: 0.8em; font-weight: bold; line-height: 1; border-radius: 0.35em; vertical-align: middle; margin-left: 0.5rem\">IT PROD</span>\n",
       "</mark>\n",
       " computing is the delivery of computing services—including servers, storage, databases, networking, software, analytics, and intelligence—over the Internet  to offer faster innovation, flexible resources, and economies of scale. You typically pay only for \n",
       "<mark class=\"entity\" style=\"background: #ddd; padding: 0.45em 0.6em; margin: 0 0.25em; line-height: 1; border-radius: 0.35em;\">\n",
       "    cloud services\n",
       "    <span style=\"font-size: 0.8em; font-weight: bold; line-height: 1; border-radius: 0.35em; vertical-align: middle; margin-left: 0.5rem\">IT PROD</span>\n",
       "</mark>\n",
       " you use, helping you lower your operating costs, run your infrastructure more efficiently, and scale as your business needs change. The current market leaders are \n",
       "<mark class=\"entity\" style=\"background: #7aecec; padding: 0.45em 0.6em; margin: 0 0.25em; line-height: 1; border-radius: 0.35em;\">\n",
       "    Microsoft\n",
       "    <span style=\"font-size: 0.8em; font-weight: bold; line-height: 1; border-radius: 0.35em; vertical-align: middle; margin-left: 0.5rem\">ORG</span>\n",
       "</mark>\n",
       ", \n",
       "<mark class=\"entity\" style=\"background: #7aecec; padding: 0.45em 0.6em; margin: 0 0.25em; line-height: 1; border-radius: 0.35em;\">\n",
       "    Amazon\n",
       "    <span style=\"font-size: 0.8em; font-weight: bold; line-height: 1; border-radius: 0.35em; vertical-align: middle; margin-left: 0.5rem\">ORG</span>\n",
       "</mark>\n",
       " and \n",
       "<mark class=\"entity\" style=\"background: #7aecec; padding: 0.45em 0.6em; margin: 0 0.25em; line-height: 1; border-radius: 0.35em;\">\n",
       "    Google\n",
       "    <span style=\"font-size: 0.8em; font-weight: bold; line-height: 1; border-radius: 0.35em; vertical-align: middle; margin-left: 0.5rem\">ORG</span>\n",
       "</mark>\n",
       ". The Google Docs is an example of an application services that is offered on the \n",
       "<mark class=\"entity\" style=\"background: #ddd; padding: 0.45em 0.6em; margin: 0 0.25em; line-height: 1; border-radius: 0.35em;\">\n",
       "    cloud\n",
       "    <span style=\"font-size: 0.8em; font-weight: bold; line-height: 1; border-radius: 0.35em; vertical-align: middle; margin-left: 0.5rem\">IT PROD</span>\n",
       "</mark>\n",
       ".</div></span>"
      ],
      "text/plain": [
       "<IPython.core.display.HTML object>"
      ]
     },
     "metadata": {},
     "output_type": "display_data"
    }
   ],
   "source": [
    "# The display.render is a utility to help us visualise the NER better.\n",
    "displacy.render(doc, style=\"ent\")"
   ]
  },
  {
   "cell_type": "markdown",
   "id": "ca9b1123",
   "metadata": {},
   "source": [
    "**Exercise**\n",
    "\n",
    "The example above is incomplete. The first two tokens (Cloud computing) should be treated as one entity.\n",
    "Adjust the given pattern so that it is more accurate.\n"
   ]
  },
  {
   "cell_type": "code",
   "execution_count": null,
   "id": "5defb4bb",
   "metadata": {},
   "outputs": [],
   "source": [
    "## your codes ##"
   ]
  },
  {
   "cell_type": "code",
   "execution_count": null,
   "id": "59393835",
   "metadata": {},
   "outputs": [],
   "source": []
  }
 ],
 "metadata": {
  "kernelspec": {
   "display_name": "Python 3",
   "language": "python",
   "name": "python3"
  },
  "language_info": {
   "codemirror_mode": {
    "name": "ipython",
    "version": 3
   },
   "file_extension": ".py",
   "mimetype": "text/x-python",
   "name": "python",
   "nbconvert_exporter": "python",
   "pygments_lexer": "ipython3",
   "version": "3.8.10"
  }
 },
 "nbformat": 4,
 "nbformat_minor": 5
}
