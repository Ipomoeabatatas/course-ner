{
 "cells": [
  {
   "cell_type": "markdown",
   "id": "c77fd024",
   "metadata": {},
   "source": [
    "**NER Notebook**\n",
    "\n",
    "Created by: Tan Poh Keam, Republic Polytechnic\n",
    "\n",
    "Acknowledgement: The notebook is inspired from https://youtu.be/TKoPva69_6E\n",
    "\n",
    "\n",
    "This notebook demonstrates:\n",
    "\n",
    "1. How we can prepare data for NER training tasks.\n",
    "The input data is labelling on based Spacy 2 format, then then convert into binary Docbin.\n",
    "\n",
    "2. How to use the CLI commands to train a custom NER model\n",
    "\n",
    "3. How to reload the improved NER model to predict against an unseen data\n",
    "\n",
    "We further assumes that the Configuration file has been prepared. \n",
    "\n",
    "The tested environment is based on Pyton 3.8 and Spacy 3"
   ]
  },
  {
   "cell_type": "code",
   "execution_count": 1,
   "id": "44a6fc7c",
   "metadata": {},
   "outputs": [],
   "source": [
    "import pandas as pd\n",
    "from tqdm import tqdm\n",
    "import spacy\n",
    "from spacy.tokens import DocBin\n",
    "from spacy import displacy"
   ]
  },
  {
   "cell_type": "markdown",
   "id": "c7c8566b",
   "metadata": {},
   "source": [
    "The next function will essentially takes in annotated data and convert to the DocBin object."
   ]
  },
  {
   "cell_type": "code",
   "execution_count": 2,
   "id": "66ed0306",
   "metadata": {
    "scrolled": true
   },
   "outputs": [],
   "source": [
    "### Do NOT CHANGE THIS BLOCK OF CODES.\n",
    "\n",
    "nlp = spacy.blank(\"en\") # load a new spacy model\n",
    "\n",
    "def  create_spacy3_training_data(TRAIN_DATA):\n",
    "    db = DocBin() # create a DocBin object\n",
    "    for text, annot in tqdm(TRAIN_DATA): # data in previous format\n",
    "       doc = nlp.make_doc(text) # create doc object from text\n",
    "       ents = []\n",
    "       for start, end, label in annot[\"entities\"]: # add character indexes\n",
    "           span = doc.char_span(start, end, label=label, alignment_mode=\"contract\")\n",
    "           if span is None:\n",
    "               print(\"Skipping entity\")\n",
    "           else:\n",
    "              ents.append(span)\n",
    "       doc.ents = ents # label the text with the ents\n",
    "       db.add(doc)\n",
    "    return (db)\n",
    "\n"
   ]
  },
  {
   "cell_type": "markdown",
   "id": "8814535d",
   "metadata": {},
   "source": [
    "**Step 1A: Prepare the Annotated Training Data in Spacy 2 format**\n",
    "\n",
    "You will first need to prepare the training and validation data based on 80/20 split.\n",
    "In practice, you will need hundreds of examples statements per entity label, and will be loaded in via a JSON file instead.\n"
   ]
  },
  {
   "cell_type": "code",
   "execution_count": 3,
   "id": "6bc97954",
   "metadata": {},
   "outputs": [],
   "source": [
    "TRAIN_DATA = \\\n",
    "[('The F15 aircraft uses a lot of fuel', {'entities': [(4, 7, 'aircraft')]}),\n",
    " ('did you see the F16 landing?', {'entities': [(16, 19, 'aircraft')]}),\n",
    " ('how many missiles can a F35 carry', {'entities': [(24, 27, 'aircraft')]}),\n",
    " ('is the F15 outdated', {'entities': [(7, 10, 'aircraft')]}),\n",
    " ('does the US still train pilots to dog fight?',{'entities': [(0, 0, 'aircraft')]}),\n",
    " ('how long does it take to train a F16 pilot',{'entities': [(33, 36, 'aircraft')]}),\n",
    " ('how much does a F35 cost', {'entities': [(16, 19, 'aircraft')]}),\n",
    " ('would it be possible to steal a F15', {'entities': [(32, 35, 'aircraft')]}),\n",
    " ('who manufactures the F16', {'entities': [(21, 24, 'aircraft')]}),\n",
    " ('how many countries have bought the F35',{'entities': [(35, 38, 'aircraft')]}),\n",
    " ('is the F35 a waste of money', {'entities': [(7, 10, 'aircraft')]})]"
   ]
  },
  {
   "cell_type": "code",
   "execution_count": 4,
   "id": "fb4bd930",
   "metadata": {},
   "outputs": [],
   "source": [
    "VAL_DATA = \\\n",
    "[('The F15 aircraft uses a lot of fuel', {'entities': [(4, 7, 'aircraft')]}),\n",
    " ('did you see the F16 landing?', {'entities': [(16, 19, 'aircraft')]}),\n",
    " ('how many missiles can a F35 carry', {'entities': [(24, 27, 'aircraft')]}),\n",
    " ('is the F15 outdated', {'entities': [(7, 10, 'aircraft')]}),\n",
    " ('does the US still train pilots to dog fight?',{'entities': [(0, 0, 'aircraft')]}),\n",
    " ('how long does it take to train a F16 pilot',{'entities': [(33, 36, 'aircraft')]}),\n",
    " ('how much does a F35 cost', {'entities': [(16, 19, 'aircraft')]}),\n",
    " ('would it be possible to steal a F15', {'entities': [(32, 35, 'aircraft')]}),\n",
    " ('who manufactures the F16', {'entities': [(21, 24, 'aircraft')]}),\n",
    " ('how many countries have bought the F35',{'entities': [(35, 38, 'aircraft')]}),\n",
    " ('is the F35 a waste of money', {'entities': [(7, 10, 'aircraft')]})]"
   ]
  },
  {
   "cell_type": "markdown",
   "id": "71bbef83",
   "metadata": {},
   "source": [
    "**Step 1B:  Convert to Docbin Format that Spacy 3 requires.**\n",
    "The training data will need to be converted to a binary format that is saved to a path in the directory.\n",
    "You can modify the next two variables if needed.\n",
    "Do NOT modify the codes, except for the location of the output files."
   ]
  },
  {
   "cell_type": "code",
   "execution_count": 5,
   "id": "b311e852",
   "metadata": {},
   "outputs": [],
   "source": [
    "# modify if needed\n",
    "path_to_train_data = '../assets/train.spacy'\n",
    "path_to_test_data = '../assets/dev.spacy'\n"
   ]
  },
  {
   "cell_type": "code",
   "execution_count": 7,
   "id": "39e81006",
   "metadata": {},
   "outputs": [
    {
     "name": "stderr",
     "output_type": "stream",
     "text": [
      "100%|██████████| 11/11 [00:00<00:00, 1789.80it/s]"
     ]
    },
    {
     "name": "stdout",
     "output_type": "stream",
     "text": [
      "Skipping entity\n"
     ]
    },
    {
     "name": "stderr",
     "output_type": "stream",
     "text": [
      "\n"
     ]
    }
   ],
   "source": [
    "# performs the conversion from Spacy 2 to Spacy 3 format\n",
    "db_train = create_spacy3_training_data(TRAIN_DATA)\n",
    "db_train.to_disk(path_to_train_data) # save the docbin object"
   ]
  },
  {
   "cell_type": "code",
   "execution_count": 8,
   "id": "bad11197",
   "metadata": {
    "scrolled": true
   },
   "outputs": [
    {
     "name": "stderr",
     "output_type": "stream",
     "text": [
      "100%|██████████| 11/11 [00:00<00:00, 1899.83it/s]"
     ]
    },
    {
     "name": "stdout",
     "output_type": "stream",
     "text": [
      "Skipping entity\n"
     ]
    },
    {
     "name": "stderr",
     "output_type": "stream",
     "text": [
      "\n"
     ]
    }
   ],
   "source": [
    "db_train = create_spacy3_training_data(VAL_DATA)\n",
    "db_train.to_disk(path_to_test_data) # save the docbin object"
   ]
  },
  {
   "cell_type": "code",
   "execution_count": 9,
   "id": "86ddf6cd",
   "metadata": {},
   "outputs": [
    {
     "name": "stdout",
     "output_type": "stream",
     "text": [
      "total 16\r\n",
      "-rw-r--r--  1 tanpohkeam  staff  1173 Jun 30 22:07 dev.spacy\r\n",
      "-rw-r--r--  1 tanpohkeam  staff  1173 Jun 30 22:07 train.spacy\r\n"
     ]
    }
   ],
   "source": [
    "# Check that the files are saved\n",
    "!ls -l ../assets"
   ]
  },
  {
   "cell_type": "code",
   "execution_count": 10,
   "id": "5a87ebd6",
   "metadata": {},
   "outputs": [],
   "source": [
    "# check for errors in the doc bin files\n"
   ]
  },
  {
   "cell_type": "markdown",
   "id": "40ec4a47",
   "metadata": {},
   "source": [
    "**Step 2: Use the  CLI to perform the NER Training**"
   ]
  },
  {
   "cell_type": "markdown",
   "id": "8b418537",
   "metadata": {},
   "source": [
    "Start the starting using CLI spacy train."
   ]
  },
  {
   "cell_type": "code",
   "execution_count": 11,
   "id": "49f2c3f9",
   "metadata": {
    "scrolled": true
   },
   "outputs": [],
   "source": [
    "## This is a sample from website. Do not run this.\n",
    "#!python -m spacy train config.cfg --output ./output --paths.train ./train.spacy --paths.dev dev.spacy\n"
   ]
  },
  {
   "cell_type": "code",
   "execution_count": 13,
   "id": "86875207",
   "metadata": {
    "scrolled": true
   },
   "outputs": [
    {
     "name": "stdout",
     "output_type": "stream",
     "text": [
      "\u001b[38;5;4mℹ Using CPU\u001b[0m\n",
      "\u001b[1m\n",
      "=========================== Initializing pipeline ===========================\u001b[0m\n",
      "[2021-06-30 22:08:32,787] [INFO] Set up nlp object from config\n",
      "[2021-06-30 22:08:32,791] [INFO] Pipeline: ['tok2vec', 'ner']\n",
      "[2021-06-30 22:08:32,792] [INFO] Created vocabulary\n",
      "[2021-06-30 22:08:32,793] [INFO] Finished initializing nlp object\n",
      "[2021-06-30 22:08:32,971] [INFO] Initialized pipeline components: ['tok2vec', 'ner']\n",
      "\u001b[38;5;2m✔ Initialized pipeline\u001b[0m\n",
      "\u001b[1m\n",
      "============================= Training pipeline =============================\u001b[0m\n",
      "\u001b[38;5;4mℹ Pipeline: ['tok2vec', 'ner']\u001b[0m\n",
      "\u001b[38;5;4mℹ Initial learn rate: 0.001\u001b[0m\n",
      "E    #       LOSS TOK2VEC  LOSS NER  ENTS_F  ENTS_P  ENTS_R  SCORE \n",
      "---  ------  ------------  --------  ------  ------  ------  ------\n",
      "  0       0          0.00     41.50    0.00    0.00    0.00    0.00\n",
      "\u001b[38;5;2m✔ Saved pipeline to output directory\u001b[0m\n",
      "../output/model-last\n"
     ]
    }
   ],
   "source": [
    "path_to_model = '../output'\n",
    "\n",
    "!python -m spacy train ../configs/config.cfg --output $path_to_model --paths.train $path_to_train_data --paths.dev $path_to_test_data\n",
    "\n"
   ]
  },
  {
   "cell_type": "markdown",
   "id": "fba85106",
   "metadata": {},
   "source": [
    "The ./output folder contains two customer NER model which you can use to create new pipelines"
   ]
  },
  {
   "cell_type": "code",
   "execution_count": 14,
   "id": "54570c6f",
   "metadata": {},
   "outputs": [
    {
     "name": "stdout",
     "output_type": "stream",
     "text": [
      "total 0\n",
      "drwxr-xr-x  8 tanpohkeam  staff  256 Jun 30 22:08 \u001b[34mmodel-best\u001b[m\u001b[m\n",
      "drwxr-xr-x  8 tanpohkeam  staff  256 Jun 30 22:08 \u001b[34mmodel-last\u001b[m\u001b[m\n",
      "/Users/tanpohkeam/Workspace/Spacy/ner-course/scripts\n"
     ]
    }
   ],
   "source": [
    "!ls -l $path_to_model\n",
    "!pwd"
   ]
  },
  {
   "cell_type": "markdown",
   "id": "eb9521ad",
   "metadata": {},
   "source": [
    "**Step 3: Use the new model found  inference**\n",
    "    "
   ]
  },
  {
   "cell_type": "code",
   "execution_count": 16,
   "id": "0721b9e2",
   "metadata": {},
   "outputs": [],
   "source": [
    "# load thebest model from training\n",
    "best_nlp = spacy.load(\"../output/model-best\")"
   ]
  },
  {
   "cell_type": "code",
   "execution_count": 24,
   "id": "bcb3c584",
   "metadata": {},
   "outputs": [
    {
     "data": {
      "text/html": [
       "<span class=\"tex2jax_ignore\"><div class=\"entities\" style=\"line-height: 2.5; direction: ltr\">s the F16 a waste of money</div></span>"
      ],
      "text/plain": [
       "<IPython.core.display.HTML object>"
      ]
     },
     "metadata": {},
     "output_type": "display_data"
    }
   ],
   "source": [
    "doc = nlp('s the F16 a waste of money')\n",
    "displacy.render(doc, style=\"ent\")"
   ]
  },
  {
   "cell_type": "code",
   "execution_count": 18,
   "id": "289914ef",
   "metadata": {
    "scrolled": true
   },
   "outputs": [
    {
     "name": "stderr",
     "output_type": "stream",
     "text": [
      "/Users/tanpohkeam/miniforge3/envs/spacy/lib/python3.8/site-packages/spacy/displacy/__init__.py:189: UserWarning: [W006] No entities to visualize found in Doc object. If this is surprising to you, make sure the Doc was processed using a model that supports named entity recognition, and check the `doc.ents` property manually if necessary.\n",
      "  warnings.warn(Warnings.W006)\n"
     ]
    },
    {
     "data": {
      "text/html": [
       "<span class=\"tex2jax_ignore\"><div class=\"entities\" style=\"line-height: 2.5; direction: ltr\">Taiwan bought a plane to booster it defences</div></span>"
      ],
      "text/plain": [
       "<IPython.core.display.HTML object>"
      ]
     },
     "metadata": {},
     "output_type": "display_data"
    }
   ],
   "source": [
    "displacy.render(doc, style=\"ent\")"
   ]
  },
  {
   "cell_type": "code",
   "execution_count": 21,
   "id": "03e9404b",
   "metadata": {},
   "outputs": [
    {
     "data": {
      "text/html": [
       "<span class=\"tex2jax_ignore\"><div class=\"entities\" style=\"line-height: 2.5; direction: ltr\">Who is the manfacturer of the F16</div></span>"
      ],
      "text/plain": [
       "<IPython.core.display.HTML object>"
      ]
     },
     "metadata": {},
     "output_type": "display_data"
    }
   ],
   "source": [
    "nlp = spacy.blank(\"en\")\n",
    "doc = nlp('Who is the manfacturer of the F16')\n",
    "displacy.render(doc, style=\"ent\")\n"
   ]
  },
  {
   "cell_type": "code",
   "execution_count": null,
   "id": "3a8b9f0d",
   "metadata": {},
   "outputs": [],
   "source": []
  },
  {
   "cell_type": "code",
   "execution_count": null,
   "id": "32be470d",
   "metadata": {},
   "outputs": [],
   "source": []
  }
 ],
 "metadata": {
  "kernelspec": {
   "display_name": "Python 3",
   "language": "python",
   "name": "python3"
  },
  "language_info": {
   "codemirror_mode": {
    "name": "ipython",
    "version": 3
   },
   "file_extension": ".py",
   "mimetype": "text/x-python",
   "name": "python",
   "nbconvert_exporter": "python",
   "pygments_lexer": "ipython3",
   "version": "3.8.10"
  }
 },
 "nbformat": 4,
 "nbformat_minor": 5
}
