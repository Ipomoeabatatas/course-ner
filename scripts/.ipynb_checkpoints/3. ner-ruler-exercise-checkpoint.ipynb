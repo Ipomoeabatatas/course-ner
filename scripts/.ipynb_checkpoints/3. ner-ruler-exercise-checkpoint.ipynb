{
 "cells": [
  {
   "cell_type": "markdown",
   "id": "e8722df1",
   "metadata": {},
   "source": [
    "**NER Notebook**\n",
    "\n",
    "Created by: Tan Poh Keam, Republic Polytechnic\n",
    "\n",
    "Acknowledgement: Sample text from https://www.misstamchiak.com\n"
   ]
  },
  {
   "cell_type": "markdown",
   "id": "7c261595",
   "metadata": {},
   "source": [
    "**Task**\n",
    "\n",
    "\n",
    "In this Notebook, we have text passages that were extracted from a Food blog.\n",
    "When we pass this text through the en_core_web_sm model, we realise that the NER is not perfect. You will undertake a challenge to use the Spacy Entity Ruler to improve the NER capability.\n"
   ]
  },
  {
   "cell_type": "code",
   "execution_count": 1,
   "id": "867303c3",
   "metadata": {},
   "outputs": [
    {
     "name": "stdout",
     "output_type": "stream",
     "text": [
      "3.0.6\n"
     ]
    }
   ],
   "source": [
    "import spacy\n",
    "from spacy import displacy\n",
    "print(spacy.__version__)"
   ]
  },
  {
   "cell_type": "code",
   "execution_count": 2,
   "id": "123cafec",
   "metadata": {},
   "outputs": [],
   "source": [
    "\n",
    "text1 = \"Akashi is the jack-of-all-trades offering a variety of delicious Japanese fare. \\\n",
    "Delivery fees start from $6.99. Every dish on their set menu comes packed with all the \\\n",
    "food groups for a filling meal — sides, rice, soup and fruit. Protein lovers will enjoy \\\n",
    "the Gyu Don set ($22.80), while the Shake Zosui ($12) is the perfect answer to rainy days.\\\n",
    "Craving sushi but not really hungry? Chill out with green tea noodles and enjoy the \\\n",
    "best of both worlds with the Nigiri Chasoba ($20.20). Enjoy Akashi from the comforts \\\n",
    "of home here today! Continue reading at Miss Tam Chiak :\\\n",
    "https://www.misstamchiak.com/japanese-food-islandwide-delivery-singapore/\"\n",
    "\n",
    "text2 = \"Opened last year end, owner Ibu Bida gave up her corporate job to start a \\\n",
    "hawker stall at the ABC Hawker Centre. She hired a talented Indonesian cook from \\\n",
    "Tanjung Pinang to whip up a good spread of dishes. They do breakfast items in \\\n",
    "the morning. Mee Rebus ($2.50) – a simple dish of thick yellow noodles with taupok, \\\n",
    "green chilli and a hard-boiled egg drenched in a flavourful spicy-sour gravy. The gravy \\\n",
    "is not overpoweringly starchy.The star for us was the Mee Soto ($2.50). The soup has many \\\n",
    "layers of flavours and a perfect balance of spices – not one outshines the others. \\\n",
    "It is strong, rich and robust, unlike the many versions out there that are weak and \\\n",
    "lack depth of flavour. Forget about the Mee Siam.\""
   ]
  },
  {
   "cell_type": "code",
   "execution_count": 3,
   "id": "62c65241",
   "metadata": {},
   "outputs": [],
   "source": [
    "nlp = spacy.load(\"en_core_web_sm\")\n",
    "doc = nlp(text1)"
   ]
  },
  {
   "cell_type": "code",
   "execution_count": 4,
   "id": "87c9d608",
   "metadata": {
    "scrolled": true
   },
   "outputs": [
    {
     "data": {
      "text/html": [
       "<span class=\"tex2jax_ignore\"><div class=\"entities\" style=\"line-height: 2.5; direction: ltr\">\n",
       "<mark class=\"entity\" style=\"background: #aa9cfc; padding: 0.45em 0.6em; margin: 0 0.25em; line-height: 1; border-radius: 0.35em;\">\n",
       "    Akashi\n",
       "    <span style=\"font-size: 0.8em; font-weight: bold; line-height: 1; border-radius: 0.35em; vertical-align: middle; margin-left: 0.5rem\">PERSON</span>\n",
       "</mark>\n",
       " is the jack-of-all-trades offering a variety of delicious \n",
       "<mark class=\"entity\" style=\"background: #c887fb; padding: 0.45em 0.6em; margin: 0 0.25em; line-height: 1; border-radius: 0.35em;\">\n",
       "    Japanese\n",
       "    <span style=\"font-size: 0.8em; font-weight: bold; line-height: 1; border-radius: 0.35em; vertical-align: middle; margin-left: 0.5rem\">NORP</span>\n",
       "</mark>\n",
       " fare. Delivery fees start from $\n",
       "<mark class=\"entity\" style=\"background: #e4e7d2; padding: 0.45em 0.6em; margin: 0 0.25em; line-height: 1; border-radius: 0.35em;\">\n",
       "    6.99\n",
       "    <span style=\"font-size: 0.8em; font-weight: bold; line-height: 1; border-radius: 0.35em; vertical-align: middle; margin-left: 0.5rem\">MONEY</span>\n",
       "</mark>\n",
       ". Every dish on their set menu comes packed with all the food groups for a filling meal — sides, rice, soup and fruit. Protein lovers will enjoy the Gyu Don set ($\n",
       "<mark class=\"entity\" style=\"background: #e4e7d2; padding: 0.45em 0.6em; margin: 0 0.25em; line-height: 1; border-radius: 0.35em;\">\n",
       "    22.80\n",
       "    <span style=\"font-size: 0.8em; font-weight: bold; line-height: 1; border-radius: 0.35em; vertical-align: middle; margin-left: 0.5rem\">MONEY</span>\n",
       "</mark>\n",
       "), while the Shake Zosui ($\n",
       "<mark class=\"entity\" style=\"background: #e4e7d2; padding: 0.45em 0.6em; margin: 0 0.25em; line-height: 1; border-radius: 0.35em;\">\n",
       "    12\n",
       "    <span style=\"font-size: 0.8em; font-weight: bold; line-height: 1; border-radius: 0.35em; vertical-align: middle; margin-left: 0.5rem\">MONEY</span>\n",
       "</mark>\n",
       ") is the perfect answer to rainy days.Craving sushi but not really hungry? Chill out with green tea noodles and enjoy the best of both worlds with the Nigiri \n",
       "<mark class=\"entity\" style=\"background: #aa9cfc; padding: 0.45em 0.6em; margin: 0 0.25em; line-height: 1; border-radius: 0.35em;\">\n",
       "    Chasoba\n",
       "    <span style=\"font-size: 0.8em; font-weight: bold; line-height: 1; border-radius: 0.35em; vertical-align: middle; margin-left: 0.5rem\">PERSON</span>\n",
       "</mark>\n",
       " ($\n",
       "<mark class=\"entity\" style=\"background: #e4e7d2; padding: 0.45em 0.6em; margin: 0 0.25em; line-height: 1; border-radius: 0.35em;\">\n",
       "    20.20\n",
       "    <span style=\"font-size: 0.8em; font-weight: bold; line-height: 1; border-radius: 0.35em; vertical-align: middle; margin-left: 0.5rem\">MONEY</span>\n",
       "</mark>\n",
       "). \n",
       "<mark class=\"entity\" style=\"background: #aa9cfc; padding: 0.45em 0.6em; margin: 0 0.25em; line-height: 1; border-radius: 0.35em;\">\n",
       "    Enjoy Akashi\n",
       "    <span style=\"font-size: 0.8em; font-weight: bold; line-height: 1; border-radius: 0.35em; vertical-align: middle; margin-left: 0.5rem\">PERSON</span>\n",
       "</mark>\n",
       " from the comforts of home here \n",
       "<mark class=\"entity\" style=\"background: #bfe1d9; padding: 0.45em 0.6em; margin: 0 0.25em; line-height: 1; border-radius: 0.35em;\">\n",
       "    today\n",
       "    <span style=\"font-size: 0.8em; font-weight: bold; line-height: 1; border-radius: 0.35em; vertical-align: middle; margin-left: 0.5rem\">DATE</span>\n",
       "</mark>\n",
       "! Continue reading at \n",
       "<mark class=\"entity\" style=\"background: #aa9cfc; padding: 0.45em 0.6em; margin: 0 0.25em; line-height: 1; border-radius: 0.35em;\">\n",
       "    Miss Tam Chiak\n",
       "    <span style=\"font-size: 0.8em; font-weight: bold; line-height: 1; border-radius: 0.35em; vertical-align: middle; margin-left: 0.5rem\">PERSON</span>\n",
       "</mark>\n",
       ":https://www.misstamchiak.com/japanese-food-islandwide-delivery-singapore/</div></span>"
      ],
      "text/plain": [
       "<IPython.core.display.HTML object>"
      ]
     },
     "metadata": {},
     "output_type": "display_data"
    }
   ],
   "source": [
    "# The display.render is a utility to help us visualise the NER better.\n",
    "displacy.render(doc, style=\"ent\")"
   ]
  },
  {
   "cell_type": "markdown",
   "id": "3bf7888a",
   "metadata": {},
   "source": [
    "**Questions:**\n",
    "\n",
    "1) Which entities are correctly identified and correctly tagged?\n",
    "\n",
    "2) Which entities are correctly identified but not correctly tagged?\n",
    "\n",
    "3) Which entities are missed out? Can they use an existing entity label, or a new one is needed ?\n",
    "\n",
    "In the cells below, write the codes to use the Ruler to improve the NER capabilities."
   ]
  },
  {
   "cell_type": "code",
   "execution_count": null,
   "id": "00b79891",
   "metadata": {},
   "outputs": [],
   "source": [
    "## your codes"
   ]
  },
  {
   "cell_type": "code",
   "execution_count": null,
   "id": "5c8f8f91",
   "metadata": {},
   "outputs": [],
   "source": []
  }
 ],
 "metadata": {
  "kernelspec": {
   "display_name": "Python 3",
   "language": "python",
   "name": "python3"
  },
  "language_info": {
   "codemirror_mode": {
    "name": "ipython",
    "version": 3
   },
   "file_extension": ".py",
   "mimetype": "text/x-python",
   "name": "python",
   "nbconvert_exporter": "python",
   "pygments_lexer": "ipython3",
   "version": "3.8.10"
  }
 },
 "nbformat": 4,
 "nbformat_minor": 5
}
