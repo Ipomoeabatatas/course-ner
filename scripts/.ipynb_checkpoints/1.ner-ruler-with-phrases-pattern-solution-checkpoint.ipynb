{
 "cells": [
  {
   "cell_type": "markdown",
   "id": "7f84ace0",
   "metadata": {},
   "source": [
    "#\n",
    "#\n",
    "Spacy Version 3.0.6 "
   ]
  },
  {
   "cell_type": "markdown",
   "id": "e2b91316",
   "metadata": {},
   "source": [
    "**NER Notebook**\n",
    "\n",
    "Created by: Tan Poh Keam, Republic Polytechnic\n",
    "\n",
    "Acknowledgement: ...\n",
    "\n",
    "This note demonstrates how token patterns can be used in the Entity Ruler.\n",
    "\n",
    "The tested environment is based on Pyton 3.8 and Spacy 3.\n"
   ]
  },
  {
   "cell_type": "code",
   "execution_count": 3,
   "id": "7210a9a3",
   "metadata": {
    "scrolled": false
   },
   "outputs": [
    {
     "name": "stdout",
     "output_type": "stream",
     "text": [
      "3.0.6\n"
     ]
    }
   ],
   "source": [
    "import spacy\n",
    "print(spacy.__version__)"
   ]
  },
  {
   "cell_type": "markdown",
   "id": "d59e7a7d",
   "metadata": {},
   "source": [
    "**Preparing**\n",
    "\n",
    "Let us load in the standard English module.\n",
    "The pipeline components will include the statisical NER model"
   ]
  },
  {
   "cell_type": "code",
   "execution_count": 4,
   "id": "8d9755cd",
   "metadata": {
    "scrolled": false
   },
   "outputs": [
    {
     "name": "stdout",
     "output_type": "stream",
     "text": [
      "Standard Pipeline Components: \n",
      " ['tok2vec', 'tagger', 'parser', 'ner', 'attribute_ruler', 'lemmatizer']\n"
     ]
    }
   ],
   "source": [
    "nlp = spacy.load(\"en_core_web_sm\")\n",
    "print(\"Standard Pipeline Components: \\n\", nlp.pipe_names)"
   ]
  },
  {
   "cell_type": "markdown",
   "id": "0606349b",
   "metadata": {},
   "source": [
    "**Now, add the entity ruler into the pipeline**\n",
    "\n",
    " The entity ruler is included as the last component in the pipeline. At this point, no patterns are provided."
   ]
  },
  {
   "cell_type": "code",
   "execution_count": 5,
   "id": "8f798523",
   "metadata": {
    "scrolled": true
   },
   "outputs": [
    {
     "name": "stdout",
     "output_type": "stream",
     "text": [
      "Custom Pipeline Components: \n",
      " ['tok2vec', 'tagger', 'parser', 'ner', 'attribute_ruler', 'lemmatizer', 'entity_ruler']\n"
     ]
    }
   ],
   "source": [
    "ruler = nlp.add_pipe(\"entity_ruler\" , config={\"overwrite_ents\": True})\n",
    "print(\"Custom Pipeline Components: \\n\", nlp.pipe_names)"
   ]
  },
  {
   "cell_type": "markdown",
   "id": "6a080b38",
   "metadata": {},
   "source": [
    "Let's see how the statisical NER model against a text with local context. \n",
    "You should see that the standard NER has identified entities, but assigned the wrong tag."
   ]
  },
  {
   "cell_type": "code",
   "execution_count": 6,
   "id": "39d0b7bb",
   "metadata": {},
   "outputs": [
    {
     "name": "stdout",
     "output_type": "stream",
     "text": [
      "PERSON Poh Heng Jewellery Store\n",
      "DATE this month\n",
      "ORG Tiffany\n"
     ]
    }
   ],
   "source": [
    "text = \"Poh Heng Jewellery Store is having a promotion this month. \\\n",
    "Tiffany is also having a sales at the same time. \"\n",
    "\n",
    "doc = nlp(text)\n",
    "for ent in doc.ents:\n",
    "    print(ent.label_ , ent.text) "
   ]
  },
  {
   "cell_type": "markdown",
   "id": "3d5507ca",
   "metadata": {},
   "source": [
    "We need to tell the ER to reassign the phrase \"Poh Heng Jewellery Store\" as an ORG instead. We can use a simple phrase matcher. By adding a simple pattern, the NER has correctly label the entity with local content."
   ]
  },
  {
   "cell_type": "code",
   "execution_count": 7,
   "id": "9b97dad1",
   "metadata": {},
   "outputs": [],
   "source": [
    "patterns = [{\"label\": \"ORG\", \"pattern\": \"Poh Heng Jewellery Store\"}]\n",
    "ruler.add_patterns(patterns)\n",
    "\n",
    "doc = nlp(text)\n",
    "for ent in doc.ents:\n",
    "    print(ent.label_ , ent.text) "
   ]
  },
  {
   "cell_type": "code",
   "execution_count": 9,
   "id": "61af800e",
   "metadata": {},
   "outputs": [
    {
     "name": "stdout",
     "output_type": "stream",
     "text": [
      "[(\"Lot One Shoppers'\", 'ORG'), ('2 weeks', 'DATE')]\n"
     ]
    }
   ],
   "source": [
    "another_text = \"Lot One Shoppers' Mall will be closed for 2 weeks for disinfecting.\"\n",
    "doc = nlp(another_text)\n",
    "print([(ent.text, ent.label_) for ent in doc.ents])"
   ]
  },
  {
   "cell_type": "markdown",
   "id": "ca9b1123",
   "metadata": {},
   "source": [
    "**Exercise**\n",
    "\n",
    "Complete the codes below to perform NER given text.\n",
    "The NER should look for phrases such as 'Cloud computing', 'Cloud', 'cloud services' and assigned the label IT-PRODUCT\n",
    "\n",
    "\"Cloud computing is the delivery of computing services—including servers, storage, databases, networking, software, analytics, and intelligence—over the Internet (“the cloud”) to offer faster innovation, flexible resources, and economies of scale. You typically pay only for cloud services you use, helping you lower your operating costs, run your infrastructure more efficiently, and scale as your business needs change.\"\n",
    "\n",
    "***Outline***\n",
    "\n",
    "Step 1: Load in the English model\n",
    "\n",
    "Step 2: Input the text into the pipeline to determine if the NER model provides can perform NER\n",
    "\n",
    "Step 3: Add a ruler to the pipeline\n",
    "\n",
    "Step 4: Define the patterns (using phrases)\n",
    "\n",
    "Step 5: Add the patterns to the ruler\n",
    "\n",
    "Step 6: Input the text into the piepline to determine if NER is correctly performed\n"
   ]
  },
  {
   "cell_type": "code",
   "execution_count": 10,
   "id": "c41a5e97",
   "metadata": {},
   "outputs": [],
   "source": [
    "my_nlp = spacy.load(\"en_core_web_sm\")\n",
    "my_text = \"Cloud computing is the delivery of computing services—including servers, \\\n",
    "storage, databases, networking, software, analytics, and intelligence—over the \\\n",
    "Internet (“the cloud”) to offer faster innovation, flexible resources, and \\\n",
    "economies of scale. You typically pay only for cloud services you use, \\\n",
    "helping you lower your operating costs, run your infrastructure more efficiently, \\\n",
    "and scale as your business needs change.\"\n",
    "\n",
    "mydoc=my_nlp(my_text)\n",
    "for ent in mydoc.ents:\n",
    "    print(ent.label_ , ent.text) "
   ]
  },
  {
   "cell_type": "code",
   "execution_count": 11,
   "id": "9a6592b8",
   "metadata": {},
   "outputs": [],
   "source": [
    "my_ruler = my_nlp.add_pipe(\"entity_ruler\" , config={\"overwrite_ents\": True})"
   ]
  },
  {
   "cell_type": "code",
   "execution_count": 12,
   "id": "855d24ac",
   "metadata": {},
   "outputs": [
    {
     "name": "stdout",
     "output_type": "stream",
     "text": [
      "IT_PRODUCT Cloud computing\n",
      "IT_PRODUCT cloud services\n"
     ]
    }
   ],
   "source": [
    "my_patterns = [{\"label\": \"IT_PRODUCT\", \"pattern\": \"Cloud computing\"},\n",
    "               { \"label\": \"IT_PRODUCT\", \"pattern\": \"cloud services\"} ] \n",
    "\n",
    "my_ruler.add_patterns(my_patterns)  \n",
    "\n",
    "mydoc=my_nlp(my_text)\n",
    "for ent in mydoc.ents:\n",
    "    print(ent.label_ , ent.text)"
   ]
  }
 ],
 "metadata": {
  "kernelspec": {
   "display_name": "Python 3",
   "language": "python",
   "name": "python3"
  },
  "language_info": {
   "codemirror_mode": {
    "name": "ipython",
    "version": 3
   },
   "file_extension": ".py",
   "mimetype": "text/x-python",
   "name": "python",
   "nbconvert_exporter": "python",
   "pygments_lexer": "ipython3",
   "version": "3.8.10"
  }
 },
 "nbformat": 4,
 "nbformat_minor": 5
}
